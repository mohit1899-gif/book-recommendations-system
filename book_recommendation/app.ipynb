{
 "cells": [
  {
   "cell_type": "code",
   "execution_count": 4,
   "id": "e0605ee3",
   "metadata": {
    "scrolled": true
   },
   "outputs": [
    {
     "name": "stdout",
     "output_type": "stream",
     "text": [
      " * Serving Flask app '__main__'\n",
      " * Debug mode: on\n"
     ]
    },
    {
     "name": "stderr",
     "output_type": "stream",
     "text": [
      "WARNING: This is a development server. Do not use it in a production deployment. Use a production WSGI server instead.\n",
      " * Running on http://127.0.0.1:5000\n",
      "Press CTRL+C to quit\n",
      " * Restarting with stat\n"
     ]
    },
    {
     "ename": "SystemExit",
     "evalue": "1",
     "output_type": "error",
     "traceback": [
      "An exception has occurred, use %tb to see the full traceback.\n",
      "\u001b[1;31mSystemExit\u001b[0m\u001b[1;31m:\u001b[0m 1\n"
     ]
    },
    {
     "name": "stderr",
     "output_type": "stream",
     "text": [
      "C:\\Users\\asus i5\\AppData\\Local\\Programs\\Python\\Python311\\Lib\\site-packages\\IPython\\core\\interactiveshell.py:3585: UserWarning: To exit: use 'exit', 'quit', or Ctrl-D.\n",
      "  warn(\"To exit: use 'exit', 'quit', or Ctrl-D.\", stacklevel=1)\n"
     ]
    }
   ],
   "source": [
    "from flask import Flask, request, jsonify, render_template\n",
    "import pandas as pd\n",
    "from sklearn.feature_extraction.text import TfidfVectorizer\n",
    "from sklearn.metrics.pairwise import cosine_similarity\n",
    "import random\n",
    "\n",
    "app = Flask(__name__)\n",
    "\n",
    "# Sample data (replace this with your actual data loading logic)\n",
    "data = {\n",
    "    'Title': ['Book 1', 'Book 2', 'Book 3'],\n",
    "    'Author': ['Author 1', 'Author 2', 'Author 3'],\n",
    "    'Genre': ['Science', 'Science', 'Science'],\n",
    "    'SubGenre': ['Astronomy', 'Physics', 'Mathematics']\n",
    "}\n",
    "df2 = pd.DataFrame(data)\n",
    "\n",
    "# Prepare data and compute cosine similarity matrix\n",
    "def prepare_data(df2):\n",
    "    df2['combined_features'] = df2['Genre'] + ' ' + df2['SubGenre'].fillna('')\n",
    "    tfidf_vectorizer = TfidfVectorizer(stop_words='english')\n",
    "    tfidf_matrix = tfidf_vectorizer.fit_transform(df2['combined_features'])\n",
    "    cosine_sim = cosine_similarity(tfidf_matrix, tfidf_matrix)\n",
    "    return df2, cosine_sim\n",
    "\n",
    "df2, cosine_sim = prepare_data(df2)\n",
    "\n",
    "# Function to get recommendations\n",
    "def recommend_books(df2, cosine_sim, selected_genre=None, selected_subgenre=None, num_recommendations=3):\n",
    "    if selected_genre and selected_subgenre:\n",
    "        genre_books = df2[df2['Genre'].str.contains(selected_genre, case=False, na=False) &\n",
    "                          df2['SubGenre'].str.contains(selected_subgenre, case=False, na=False)]\n",
    "    elif selected_genre:\n",
    "        genre_books = df2[df2['Genre'].str.contains(selected_genre, case=False, na=False)]\n",
    "    elif selected_subgenre:\n",
    "        genre_books = df2[df2['SubGenre'].str.contains(selected_subgenre, case=False, na=False)]\n",
    "    else:\n",
    "        return \"Please select at least one genre or subgenre.\"\n",
    "\n",
    "    if genre_books.empty:\n",
    "        return \"No books found for the selected genre and/or subgenre.\"\n",
    "\n",
    "    reference_book_idx = random.choice(genre_books.index)\n",
    "    sim_scores = list(enumerate(cosine_sim[reference_book_idx]))\n",
    "    sim_scores = sorted(sim_scores, key=lambda x: x[1], reverse=True)\n",
    "    sim_scores = sim_scores[1:num_recommendations+1]\n",
    "    book_indices = [i[0] for i in sim_scores]\n",
    "    return df2.iloc[book_indices].to_dict('records')\n",
    "\n",
    "@app.route('/')\n",
    "def home():\n",
    "    return render_template('index.html')\n",
    "\n",
    "@app.route('/recommend', methods=['POST'])\n",
    "def recommend():\n",
    "    data = request.get_json()\n",
    "    selected_genre = data.get('genre')\n",
    "    selected_subgenre = data.get('subgenre')\n",
    "    recommendations = recommend_books(df2, cosine_sim, selected_genre, selected_subgenre, num_recommendations=3)\n",
    "    return jsonify(recommendations)\n",
    "\n",
    "if __name__ == '__main__':\n",
    "    app.run(debug=True)\n"
   ]
  },
  {
   "cell_type": "code",
   "execution_count": 6,
   "id": "a7adba11",
   "metadata": {},
   "outputs": [
    {
     "ename": "SyntaxError",
     "evalue": "invalid syntax (947945564.py, line 1)",
     "output_type": "error",
     "traceback": [
      "\u001b[1;36m  Cell \u001b[1;32mIn[6], line 1\u001b[1;36m\u001b[0m\n\u001b[1;33m    py app.py\u001b[0m\n\u001b[1;37m       ^\u001b[0m\n\u001b[1;31mSyntaxError\u001b[0m\u001b[1;31m:\u001b[0m invalid syntax\n"
     ]
    }
   ],
   "source": [
    "py app.py"
   ]
  }
 ],
 "metadata": {
  "kernelspec": {
   "display_name": "cuda-gpu",
   "language": "python",
   "name": "cuda"
  },
  "language_info": {
   "codemirror_mode": {
    "name": "ipython",
    "version": 3
   },
   "file_extension": ".py",
   "mimetype": "text/x-python",
   "name": "python",
   "nbconvert_exporter": "python",
   "pygments_lexer": "ipython3",
   "version": "3.11.3"
  }
 },
 "nbformat": 4,
 "nbformat_minor": 5
}
